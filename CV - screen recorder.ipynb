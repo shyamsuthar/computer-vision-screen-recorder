{
 "cells": [
  {
   "cell_type": "code",
   "execution_count": 7,
   "id": "3b476d42",
   "metadata": {},
   "outputs": [],
   "source": [
    "# screen recorder \n",
    "## import libraries\n",
    "\n",
    "import cv2 as c\n",
    "import pyautogui as p\n",
    "import numpy as np"
   ]
  },
  {
   "cell_type": "code",
   "execution_count": 8,
   "id": "68e20a21",
   "metadata": {},
   "outputs": [],
   "source": [
    "rs = p.size()"
   ]
  },
  {
   "cell_type": "code",
   "execution_count": 9,
   "id": "c3021f4c",
   "metadata": {},
   "outputs": [
    {
     "name": "stdout",
     "output_type": "stream",
     "text": [
      "please enter any file name and pathC:\\\\shyam.mp4\n"
     ]
    }
   ],
   "source": [
    "fn = input('please enter any file name and path')\n",
    "fps = 20.0\n",
    "\n",
    "fourcc = c.VideoWriter_fourcc(*'XVID')\n",
    "output =  c.VideoWriter(fn,fourcc,fps,rs)\n",
    "\n",
    "# create a recording module\n",
    "c.namedWindow('Live_Recording',c.WINDOW_NORMAL)\n",
    "c.resizeWindow('Live_Recording',(600,400))\n",
    "\n",
    "while True:\n",
    "    img = p.screenshot()\n",
    "    f = np.array(img)\n",
    "    f = c.cvtColor(f,c.COLOR_BGR2RGB)\n",
    "    output.write(f)\n",
    "    c.imshow('Live_Recording',f)\n",
    "    if c.waitKey(1)==ord('q'):\n",
    "        break\n",
    "output.release()\n",
    "c.destroyAllWindows()\n"
   ]
  },
  {
   "cell_type": "code",
   "execution_count": null,
   "id": "f4d5da49",
   "metadata": {},
   "outputs": [],
   "source": []
  }
 ],
 "metadata": {
  "kernelspec": {
   "display_name": "Python 3 (ipykernel)",
   "language": "python",
   "name": "python3"
  },
  "language_info": {
   "codemirror_mode": {
    "name": "ipython",
    "version": 3
   },
   "file_extension": ".py",
   "mimetype": "text/x-python",
   "name": "python",
   "nbconvert_exporter": "python",
   "pygments_lexer": "ipython3",
   "version": "3.9.7"
  }
 },
 "nbformat": 4,
 "nbformat_minor": 5
}
